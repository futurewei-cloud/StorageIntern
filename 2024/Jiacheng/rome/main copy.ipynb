{
 "cells": [
  {
   "cell_type": "code",
   "execution_count": 21,
   "metadata": {},
   "outputs": [
    {
     "name": "stderr",
     "output_type": "stream",
     "text": [
      "/home/ljc/miniconda3/envs/fw/lib/python3.11/site-packages/transformers/optimization.py:588: FutureWarning: This implementation of AdamW is deprecated and will be removed in a future version. Use the PyTorch implementation torch.optim.AdamW instead, or set `no_deprecation_warning=True` to disable this warning\n",
      "  warnings.warn(\n"
     ]
    },
    {
     "name": "stdout",
     "output_type": "stream",
     "text": [
      "Epoch 1/100 - Loss: 4.641417503356934\n",
      "Epoch 2/100 - Loss: 2.4835147857666016\n",
      "Epoch 3/100 - Loss: 1.4012689590454102\n",
      "Epoch 4/100 - Loss: 0.8593011498451233\n",
      "Epoch 5/100 - Loss: 0.4999856948852539\n",
      "Epoch 6/100 - Loss: 0.3107893764972687\n",
      "Epoch 7/100 - Loss: 0.19539831578731537\n",
      "Epoch 8/100 - Loss: 0.056618381291627884\n",
      "Epoch 9/100 - Loss: 0.12879632413387299\n",
      "Epoch 10/100 - Loss: 0.02102826163172722\n",
      "Epoch 11/100 - Loss: 0.02270263060927391\n",
      "Epoch 12/100 - Loss: 0.012552543543279171\n",
      "Epoch 13/100 - Loss: 0.013244732283055782\n",
      "Epoch 14/100 - Loss: 0.011647948995232582\n",
      "Epoch 15/100 - Loss: 0.018107440322637558\n",
      "Epoch 16/100 - Loss: 0.02449999377131462\n",
      "Epoch 17/100 - Loss: 0.01854560151696205\n",
      "Epoch 18/100 - Loss: 0.023121872916817665\n",
      "Epoch 19/100 - Loss: 0.027654292061924934\n",
      "Epoch 20/100 - Loss: 0.016740433871746063\n",
      "Epoch 21/100 - Loss: 0.016504356637597084\n",
      "Epoch 22/100 - Loss: 0.008316763676702976\n",
      "Epoch 23/100 - Loss: 0.013010576367378235\n",
      "Epoch 24/100 - Loss: 0.006010639481246471\n",
      "Epoch 25/100 - Loss: 0.05715065822005272\n",
      "Epoch 26/100 - Loss: 0.007934371009469032\n",
      "Epoch 27/100 - Loss: 0.015575279481709003\n",
      "Epoch 28/100 - Loss: 0.035462744534015656\n",
      "Epoch 29/100 - Loss: 0.01797809638082981\n",
      "Epoch 30/100 - Loss: 0.03266322240233421\n",
      "Epoch 31/100 - Loss: 0.023127947002649307\n",
      "Epoch 32/100 - Loss: 0.020645981654524803\n",
      "Epoch 33/100 - Loss: 0.007921787910163403\n",
      "Epoch 34/100 - Loss: 0.020873263478279114\n",
      "Epoch 35/100 - Loss: 0.01296637300401926\n",
      "Epoch 36/100 - Loss: 0.014046902768313885\n",
      "Epoch 37/100 - Loss: 0.015401550568640232\n",
      "Epoch 38/100 - Loss: 0.016595715656876564\n",
      "Epoch 39/100 - Loss: 0.00879201851785183\n",
      "Epoch 40/100 - Loss: 0.01067111175507307\n",
      "Epoch 41/100 - Loss: 0.015080261044204235\n",
      "Epoch 42/100 - Loss: 0.015837645158171654\n",
      "Epoch 43/100 - Loss: 0.016004161909222603\n",
      "Epoch 44/100 - Loss: 0.010017072781920433\n",
      "Epoch 45/100 - Loss: 0.014889024198055267\n",
      "Epoch 46/100 - Loss: 0.012980150058865547\n",
      "Epoch 47/100 - Loss: 0.012997635640203953\n",
      "Epoch 48/100 - Loss: 0.015385477803647518\n",
      "Epoch 49/100 - Loss: 0.013551771640777588\n",
      "Epoch 50/100 - Loss: 0.017506416887044907\n",
      "Epoch 51/100 - Loss: 0.012897836975753307\n",
      "Epoch 52/100 - Loss: 0.01418914645910263\n",
      "Epoch 53/100 - Loss: 0.014015342108905315\n",
      "Epoch 54/100 - Loss: 0.01573238894343376\n",
      "Epoch 55/100 - Loss: 0.01599295064806938\n",
      "Epoch 56/100 - Loss: 0.0139908567070961\n",
      "Epoch 57/100 - Loss: 0.01157886628061533\n",
      "Epoch 58/100 - Loss: 0.011814412660896778\n",
      "Epoch 59/100 - Loss: 0.016022561118006706\n",
      "Epoch 60/100 - Loss: 0.014702312648296356\n",
      "Epoch 61/100 - Loss: 0.01007837988436222\n",
      "Epoch 62/100 - Loss: 0.01322583295404911\n",
      "Epoch 63/100 - Loss: 0.014192549511790276\n",
      "Epoch 64/100 - Loss: 0.01324377115815878\n",
      "Epoch 65/100 - Loss: 0.019455885514616966\n",
      "Epoch 66/100 - Loss: 0.012404687702655792\n",
      "Epoch 67/100 - Loss: 0.016055824235081673\n",
      "Epoch 68/100 - Loss: 0.013299058191478252\n",
      "Epoch 69/100 - Loss: 0.015064632520079613\n",
      "Epoch 70/100 - Loss: 0.013505944050848484\n",
      "Epoch 71/100 - Loss: 0.012742330320179462\n",
      "Epoch 72/100 - Loss: 0.012531330808997154\n",
      "Epoch 73/100 - Loss: 0.013863340020179749\n",
      "Epoch 74/100 - Loss: 0.010675756260752678\n",
      "Epoch 75/100 - Loss: 0.013945200480520725\n",
      "Epoch 76/100 - Loss: 0.012923753820359707\n",
      "Epoch 77/100 - Loss: 0.015878399834036827\n",
      "Epoch 78/100 - Loss: 0.013209616765379906\n",
      "Epoch 79/100 - Loss: 0.015574728138744831\n",
      "Epoch 80/100 - Loss: 0.012451203539967537\n",
      "Epoch 81/100 - Loss: 0.00835768785327673\n",
      "Epoch 82/100 - Loss: 0.007906841114163399\n",
      "Epoch 83/100 - Loss: 0.012491576373577118\n",
      "Epoch 84/100 - Loss: 0.011064447462558746\n",
      "Epoch 85/100 - Loss: 0.01261824183166027\n",
      "Epoch 86/100 - Loss: 0.013261852785944939\n",
      "Epoch 87/100 - Loss: 0.012815205380320549\n",
      "Epoch 88/100 - Loss: 0.013003931380808353\n",
      "Epoch 89/100 - Loss: 0.011237164959311485\n",
      "Epoch 90/100 - Loss: 0.012440958060324192\n",
      "Epoch 91/100 - Loss: 0.013296136632561684\n",
      "Epoch 92/100 - Loss: 0.01109434012323618\n",
      "Epoch 93/100 - Loss: 0.012906289659440517\n",
      "Epoch 94/100 - Loss: 0.010243087075650692\n",
      "Epoch 95/100 - Loss: 0.014652236364781857\n",
      "Epoch 96/100 - Loss: 0.01530302595347166\n",
      "Epoch 97/100 - Loss: 0.013439536094665527\n",
      "Epoch 98/100 - Loss: 0.014646077528595924\n",
      "Epoch 99/100 - Loss: 0.011538905091583729\n",
      "Epoch 100/100 - Loss: 0.012357508763670921\n"
     ]
    },
    {
     "data": {
      "text/plain": [
       "('gpt2_finetuned/tokenizer_config.json',\n",
       " 'gpt2_finetuned/special_tokens_map.json',\n",
       " 'gpt2_finetuned/vocab.json',\n",
       " 'gpt2_finetuned/merges.txt',\n",
       " 'gpt2_finetuned/added_tokens.json')"
      ]
     },
     "execution_count": 21,
     "metadata": {},
     "output_type": "execute_result"
    }
   ],
   "source": [
    "from transformers import GPT2Tokenizer, GPT2LMHeadModel, AdamW\n",
    "import torch\n",
    "\n",
    "# Load tokenizer and model\n",
    "tokenizer = GPT2Tokenizer.from_pretrained(\"gpt2-xl\")\n",
    "model = GPT2LMHeadModel.from_pretrained(\"gpt2-xl\")\n",
    "tokenizer.pad_token = tokenizer.eos_token\n",
    "\n",
    "# Define the hyperparameters\n",
    "max_length = 512\n",
    "num_epochs = 100  # Number of epochs for training\n",
    "learning_rate = 5e-5\n",
    "\n",
    "task_prefix = \"Here is a sentence, please extract the keyword of the sentence into (entity,entity,relation) format. \"\n",
    "\n",
    "\n",
    "# Training examples\n",
    "input_sequences = [\n",
    "    \"Using apps like Forest indicates concentration issues and serves as a temporary fix rather than addressing underlying problems. (Forest App, Users, Concentration Issues)\",\n",
    "    \"The author used to be constantly distracted by social media but has since dramatically changed their habits and can now focus without needing their phone. (Author, Social Media, Distraction)\"\n",
    "]\n",
    "\n",
    "input_sequences = [task_prefix + seq for seq in input_sequences]\n",
    "# Encode the inputs\n",
    "encoding = tokenizer(\n",
    "    input_sequences,\n",
    "    padding=\"longest\",\n",
    "    max_length=max_length,\n",
    "    truncation=True,\n",
    "    return_tensors=\"pt\",\n",
    ")\n",
    "\n",
    "input_ids = encoding.input_ids\n",
    "\n",
    "# Set pad_token as eos_token\n",
    "tokenizer.pad_token = tokenizer.eos_token\n",
    "\n",
    "# Move model and inputs to GPU if available\n",
    "device = torch.device(\"cuda\" if torch.cuda.is_available() else \"cpu\")\n",
    "model.to(device)\n",
    "input_ids = input_ids.to(device)\n",
    "\n",
    "# Prepare optimizer\n",
    "optimizer = AdamW(model.parameters(), lr=learning_rate)\n",
    "\n",
    "# Training loop\n",
    "model.train()\n",
    "for epoch in range(num_epochs):\n",
    "    optimizer.zero_grad()\n",
    "    \n",
    "    # Forward pass\n",
    "    outputs = model(input_ids=input_ids, labels=input_ids)\n",
    "    loss = outputs.loss\n",
    "    loss.backward()\n",
    "    \n",
    "    # Optimization step\n",
    "    optimizer.step()\n",
    "    \n",
    "    print(f\"Epoch {epoch + 1}/{num_epochs} - Loss: {loss.item()}\")\n",
    "\n",
    "# Save the model\n",
    "model.save_pretrained(\"gpt2_finetuned\")\n",
    "tokenizer.save_pretrained(\"gpt2_finetuned\")\n"
   ]
  },
  {
   "cell_type": "code",
   "execution_count": 20,
   "metadata": {},
   "outputs": [
    {
     "name": "stderr",
     "output_type": "stream",
     "text": [
      "Loading checkpoint shards: 100%|██████████| 2/2 [00:00<00:00,  3.48it/s]\n",
      "Setting `pad_token_id` to `eos_token_id`:50256 for open-end generation.\n"
     ]
    },
    {
     "name": "stdout",
     "output_type": "stream",
     "text": [
      "['Here is a sentence, please extract the keyword of the sentence into (entity,entity,relation) format. To identify a critical and emerging technology field, officers consider governmental, academic, and other authoritative and instructive sources, and all other evidence submitted by the petitioner.']\n"
     ]
    }
   ],
   "source": [
    "from transformers import GPT2Tokenizer, GPT2LMHeadModel\n",
    "\n",
    "\n",
    "# 加载 GPT-2 tokenizer 和模型\n",
    "tokenizer = GPT2Tokenizer.from_pretrained(\"gpt2_finetuned\")\n",
    "model = GPT2LMHeadModel.from_pretrained(\"gpt2_finetuned\").cuda()\n"
   ]
  },
  {
   "cell_type": "code",
   "execution_count": 22,
   "metadata": {},
   "outputs": [
    {
     "name": "stderr",
     "output_type": "stream",
     "text": [
      "Setting `pad_token_id` to `eos_token_id`:50256 for open-end generation.\n"
     ]
    },
    {
     "name": "stdout",
     "output_type": "stream",
     "text": [
      "['Here is a sentence, please extract the keyword of the sentence into (entity,entity,relation) format. To identify a critical and emerging technology field, officers consider governmental, academic, and other authoritative and instructive sources, and all other evidence submitted by the petitioner. The author used to be constantly distracted by social media but has since dramatically changed their habits and can now focus without needing their phone. (Author, Social Media, Distraction)']\n"
     ]
    },
    {
     "ename": "",
     "evalue": "",
     "output_type": "error",
     "traceback": [
      "\u001b[1;31m在当前单元格或上一个单元格中执行代码时 Kernel 崩溃。\n",
      "\u001b[1;31m请查看单元格中的代码，以确定故障的可能原因。\n",
      "\u001b[1;31m单击<a href='https://aka.ms/vscodeJupyterKernelCrash'>此处</a>了解详细信息。\n",
      "\u001b[1;31m有关更多详细信息，请查看 Jupyter <a href='command:jupyter.viewOutput'>log</a>。"
     ]
    }
   ],
   "source": [
    "from transformers import GPT2Tokenizer, GPT2LMHeadModel\n",
    "\n",
    "tokenizer.pad_token = tokenizer.eos_token\n",
    "\n",
    "# Define the task prefix\n",
    "task_prefix = \"Here is a sentence, please extract the keyword of the sentence into (entity,entity,relation) format. \"\n",
    "\n",
    "# Use different length sentences to test batching\n",
    "sentences = [\n",
    "    \"To identify a critical and emerging technology field, officers consider governmental, academic, and other authoritative and instructive sources, and all other evidence submitted by the petitioner.\",\n",
    "]\n",
    "\n",
    "# Prepare inputs\n",
    "inputs = tokenizer([task_prefix + sentence for sentence in sentences], return_tensors=\"pt\", padding=True, truncation=True, max_length=512)\n",
    "\n",
    "# Generate output sequences\n",
    "output_sequences = model.generate(\n",
    "    input_ids=inputs[\"input_ids\"].cuda(),\n",
    "    attention_mask=inputs[\"attention_mask\"].cuda(),\n",
    "    max_length=512,\n",
    "    num_return_sequences=1,\n",
    "    do_sample=False  # Disable sampling to test if batching affects output\n",
    ")\n",
    "\n",
    "# Decode and print outputs\n",
    "decoded_outputs = tokenizer.batch_decode(output_sequences, skip_special_tokens=True)\n",
    "print(decoded_outputs)\n"
   ]
  }
 ],
 "metadata": {
  "kernelspec": {
   "display_name": "frank",
   "language": "python",
   "name": "python3"
  },
  "language_info": {
   "codemirror_mode": {
    "name": "ipython",
    "version": 3
   },
   "file_extension": ".py",
   "mimetype": "text/x-python",
   "name": "python",
   "nbconvert_exporter": "python",
   "pygments_lexer": "ipython3",
   "version": "3.11.0"
  }
 },
 "nbformat": 4,
 "nbformat_minor": 2
}
