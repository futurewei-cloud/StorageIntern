{
 "cells": [
  {
   "cell_type": "code",
   "execution_count": 3,
   "metadata": {},
   "outputs": [
    {
     "name": "stderr",
     "output_type": "stream",
     "text": [
      "/home/ljc/miniconda3/envs/fw/lib/python3.11/site-packages/huggingface_hub/file_download.py:1132: FutureWarning: `resume_download` is deprecated and will be removed in version 1.0.0. Downloads always resume when possible. If you want to force a new download, use `force_download=True`.\n",
      "  warnings.warn(\n",
      "Some weights of the model checkpoint at dslim/bert-base-NER were not used when initializing BertForTokenClassification: ['bert.pooler.dense.bias', 'bert.pooler.dense.weight']\n",
      "- This IS expected if you are initializing BertForTokenClassification from the checkpoint of a model trained on another task or with another architecture (e.g. initializing a BertForSequenceClassification model from a BertForPreTraining model).\n",
      "- This IS NOT expected if you are initializing BertForTokenClassification from the checkpoint of a model that you expect to be exactly identical (initializing a BertForSequenceClassification model from a BertForSequenceClassification model).\n"
     ]
    },
    {
     "name": "stdout",
     "output_type": "stream",
     "text": [
      "Entities:\n",
      "('Apple Inc.', 'ORG')\n",
      "('U.K.', 'GPE')\n",
      "('$1 billion', 'MONEY')\n",
      "\n",
      "Relations:\n",
      "('Apple', 'U', 'relation_placeholder')\n"
     ]
    }
   ],
   "source": [
    "import spacy\n",
    "from transformers import AutoTokenizer, AutoModelForTokenClassification, pipeline\n",
    "\n",
    "# Load SpaCy model for NER\n",
    "nlp = spacy.load('en_core_web_sm')\n",
    "\n",
    "# Load pre-trained relation extraction model from Hugging Face\n",
    "tokenizer = AutoTokenizer.from_pretrained(\"dslim/bert-base-NER\")\n",
    "model = AutoModelForTokenClassification.from_pretrained(\"dslim/bert-base-NER\")\n",
    "\n",
    "# Create a pipeline for NER\n",
    "nlp_transformers = pipeline(\"ner\", model=model, tokenizer=tokenizer)\n",
    "\n",
    "def extract_entities(text):\n",
    "    # Process the text with SpaCy to extract entities\n",
    "    doc = nlp(text)\n",
    "    entities = [(ent.text, ent.label_) for ent in doc.ents]\n",
    "    return entities\n",
    "\n",
    "def extract_relations(text):\n",
    "    # Process the text with the pre-trained relation extraction model\n",
    "    ner_results = nlp_transformers(text)\n",
    "    \n",
    "    # Post-process the results to convert them to (entity, entity, relation) format\n",
    "    relations = []\n",
    "    for i in range(len(ner_results)):\n",
    "        if ner_results[i]['entity'].startswith('B-'):\n",
    "            entity_1 = ner_results[i]['word']\n",
    "            for j in range(i+1, len(ner_results)):\n",
    "                if ner_results[j]['entity'].startswith('B-'):\n",
    "                    entity_2 = ner_results[j]['word']\n",
    "                    relation = (entity_1, entity_2, \"relation_placeholder\")  # Replace with actual relation extraction logic\n",
    "                    relations.append(relation)\n",
    "                    break\n",
    "    return relations\n",
    "\n",
    "# Example sentence\n",
    "sentence = \"Apple Inc. is looking at buying U.K. startup for $1 billion.\"\n",
    "\n",
    "entities = extract_entities(sentence)\n",
    "relations = extract_relations(sentence)\n",
    "\n",
    "print(\"Entities:\")\n",
    "for entity in entities:\n",
    "    print(entity)\n",
    "\n",
    "print(\"\\nRelations:\")\n",
    "for relation in relations:\n",
    "    print(relation)\n"
   ]
  }
 ],
 "metadata": {
  "kernelspec": {
   "display_name": "fw",
   "language": "python",
   "name": "python3"
  },
  "language_info": {
   "codemirror_mode": {
    "name": "ipython",
    "version": 3
   },
   "file_extension": ".py",
   "mimetype": "text/x-python",
   "name": "python",
   "nbconvert_exporter": "python",
   "pygments_lexer": "ipython3",
   "version": "3.11.0"
  }
 },
 "nbformat": 4,
 "nbformat_minor": 2
}
