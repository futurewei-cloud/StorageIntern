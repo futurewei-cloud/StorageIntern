{
 "cells": [
  {
   "cell_type": "code",
   "execution_count": null,
   "metadata": {},
   "outputs": [],
   "source": [
    " datasets = {\n",
    "      'foo_data': FooDataset('/path/to/foo.tsv'),\n",
    "      'bar_data': BarDataset('/path/to/bar.tfrecord'),\n",
    "  }\n",
    "  models = {'my_model': MyModel('/path/to/model/files')}\n",
    "  lit_demo = lit_nlp.dev_server.Server(models, datasets, port=4321)\n",
    "  lit_demo.serve()"
   ]
  }
 ],
 "metadata": {
  "language_info": {
   "name": "python"
  }
 },
 "nbformat": 4,
 "nbformat_minor": 2
}
