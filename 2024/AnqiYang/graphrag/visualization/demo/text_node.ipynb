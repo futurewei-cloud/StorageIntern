{
 "cells": [
  {
   "cell_type": "code",
   "execution_count": 1,
   "metadata": {},
   "outputs": [],
   "source": [
    "# Define a color scheme for different types\n",
    "color_map = {\n",
    "    '\"ORGANIZATION\"': 'blue',\n",
    "    '\"EVENT\"': 'green',\n",
    "    '\"PERSON\"': 'purple',\n",
    "    '\"GEO\"': 'red',\n",
    "    # Add more types and colors as needed\n",
    "}"
   ]
  },
  {
   "cell_type": "code",
   "execution_count": 3,
   "metadata": {},
   "outputs": [],
   "source": [
    "import networkx as nx\n",
    "import json\n",
    "import ipywidgets as widgets\n",
    "from IPython.display import display\n",
    "\n",
    "\n",
    "# Load the .graphml file\n",
    "graphml_file = '/home/angel/universe/graphrag/demo/mutitxt/output/20240722-155747/artifacts/clustered_graph.0.graphml'  # Replace with the actual path to your .graphml file\n",
    "graph = nx.read_graphml(graphml_file)\n",
    "\n",
    "# Define a color scheme for different types\n",
    "color_map = {\n",
    "    'ORGANIZATION': '#008B8B',\n",
    "    'EVENT': '#8FBC8F',\n",
    "    'PERSON': '#E9967A',\n",
    "    'GEO': '#A9A9A9',\n",
    "    # Add more types and colors as needed\n",
    "}\n",
    "\n",
    "# Extract nodes and edges, cleaning up the escape characters\n",
    "nodes = [{'id': str(node_id).strip('\"'), 'type': data.get('type', '').strip('\"')} for node_id, data in graph.nodes(data=True)]\n",
    "edges = [{'source': str(edge[0]).strip('\"'), 'target': str(edge[1]).strip('\"')} for edge in graph.edges()]\n",
    "\n",
    "# Convert to JSON format required by 3d-force-graph\n",
    "graph_data = {\n",
    "    'nodes': nodes,\n",
    "    'links': edges\n",
    "}\n",
    "\n",
    "# Convert the graph data to JSON string\n",
    "graph_data_json = json.dumps(graph_data, ensure_ascii=False)\n",
    "\n",
    "# Create the HTML content for 3d-force-graph\n",
    "html_content = f\"\"\"<!DOCTYPE html>\n",
    "<html lang=\"en\">\n",
    "<head>\n",
    "    <style> body {{ margin: 0; }} </style>\n",
    "    <script src=\"https://unpkg.com/3d-force-graph\"></script>\n",
    "</head>\n",
    "<body>\n",
    "    <div id=\"3d-graph\" style=\"width: 100vw; height: 100vh;\"></div>\n",
    "\n",
    "    <script type=\"importmap\"> \n",
    "    {{\n",
    "        \"imports\": {{ \n",
    "            \"three\": \"https://unpkg.com/three/build/three.module.js\" \n",
    "        }}\n",
    "    }}\n",
    "    </script>\n",
    "    <script type=\"module\">\n",
    "        import SpriteText from \"https://unpkg.com/three-spritetext/dist/three-spritetext.mjs\";\n",
    "        import * as d3 from \"https://unpkg.com/d3@6?module\";\n",
    "\n",
    "        const graphData = {graph_data_json};\n",
    "\n",
    "        const colorMap = {{\n",
    "            'ORGANIZATION': '#008B8B',\n",
    "            'EVENT': '#8FBC8F',\n",
    "            'PERSON': '#E9967A',\n",
    "            'GEO': '#A9A9A9',\n",
    "            '': 'gray'  // Default color for undefined types\n",
    "        }};\n",
    "\n",
    "        const Graph = ForceGraph3D()\n",
    "            (document.getElementById('3d-graph'))\n",
    "                .graphData(graphData)\n",
    "                .nodeAutoColorBy('type')\n",
    "                .nodeThreeObject(node => {{\n",
    "                    const sprite = new SpriteText(node.id);\n",
    "                    sprite.material.depthWrite = false; // make sprite background transparent\n",
    "                    sprite.color = colorMap[node.type] || 'gray';\n",
    "                    sprite.textHeight = 8;\n",
    "                    return sprite;\n",
    "                }});\n",
    "\n",
    "        // Increase repulsion force and link distance\n",
    "        Graph.d3Force('charge', d3.forceManyBody().strength(-300));\n",
    "        Graph.d3Force('link', d3.forceLink().distance(200));\n",
    "\n",
    "\n",
    "    </script>\n",
    "</body>\n",
    "</html>\n",
    "\"\"\"\n",
    "\n",
    "# Display the HTML content using ipywidgets\n",
    "html_widget = widgets.HTML(value=html_content)\n",
    "\n"
   ]
  },
  {
   "cell_type": "code",
   "execution_count": 3,
   "metadata": {},
   "outputs": [
    {
     "data": {
      "text/plain": [
       "'{\"nodes\": [{\"id\": \"SHEIN\", \"type\": \"ORGANIZATION\"}, {\"id\": \"CHARLIE GRAHAM\", \"type\": \"PERSON\"}, {\"id\": \"ZARA\", \"type\": \"ORGANIZATION\"}, {\"id\": \"US\", \"type\": \"GEO\"}, {\"id\": \"AMAZON\", \"type\": \"ORGANIZATION\"}, {\"id\": \"FAST FASHION\", \"type\": \"EVENT\"}, {\"id\": \"ECOMMERCE\", \"type\": \"\"}, {\"id\": \"TIKTOK\", \"type\": \"ORGANIZATION\"}, {\"id\": \"INSTAGRAM\", \"type\": \"ORGANIZATION\"}, {\"id\": \"2023\", \"type\": \"EVENT\"}, {\"id\": \"2019\", \"type\": \"EVENT\"}, {\"id\": \"2020\", \"type\": \"EVENT\"}, {\"id\": \"CHRIS XU\", \"type\": \"PERSON\"}, {\"id\": \"WANG XIAOHU\", \"type\": \"PERSON\"}, {\"id\": \"LI PENG\", \"type\": \"PERSON\"}, {\"id\": \"NANJING DIANWEI INFORMATION TECHNOLOGY (NDIT)\", \"type\": \"ORGANIZATION\"}, {\"id\": \"GEORGE WASHINGTON UNIVERSITY\", \"type\": \"ORGANIZATION\"}, {\"id\": \"NANJING\", \"type\": \"GEO\"}, {\"id\": \"XU\", \"type\": \"PERSON\"}, {\"id\": \"XIAOHU\", \"type\": \"PERSON\"}, {\"id\": \"CHINA\", \"type\": \"GEO\"}, {\"id\": \"NDIT\", \"type\": \"ORGANIZATION\"}, {\"id\": \"GUANGZHOU\", \"type\": \"GEO\"}, {\"id\": \"SHEINSIDE.COM\", \"type\": \"ORGANIZATION\"}, {\"id\": \"PENG\", \"type\": \"PERSON\"}, {\"id\": \"ROMWE\", \"type\": \"ORGANIZATION\"}, {\"id\": \"SPAIN\", \"type\": \"GEO\"}, {\"id\": \"GERMANY\", \"type\": \"GEO\"}, {\"id\": \"US MARKET\", \"type\": \"GEO\"}, {\"id\": \"2012\", \"type\": \"EVENT\"}, {\"id\": \"2014\", \"type\": \"EVENT\"}, {\"id\": \"2015\", \"type\": \"EVENT\"}, {\"id\": \"2016\", \"type\": \"EVENT\"}, {\"id\": \"2017\", \"type\": \"EVENT\"}, {\"id\": \"US MARKET PUSH 2017\", \"type\": \"EVENT\"}, {\"id\": \"LATR SYSTEM\", \"type\": \"EVENT\"}, {\"id\": \"UNIUNI\", \"type\": \"ORGANIZATION\"}, {\"id\": \"H&M\", \"type\": \"ORGANIZATION\"}, {\"id\": \"NEW BALANCE\", \"type\": \"ORGANIZATION\"}, {\"id\": \"LAUNCH OF SHEIN\\'S INTEGRATED MARKETPLACE\", \"type\": \"\"}, {\"id\": \"JUNE 2023\", \"type\": \"EVENT\"}, {\"id\": \"NOVEMBER 2023\", \"type\": \"EVENT\"}, {\"id\": \"MOTF\", \"type\": \"ORGANIZATION\"}, {\"id\": \"KATY PERRY\", \"type\": \"PERSON\"}, {\"id\": \"HOME GOODS MARKETPLACE LAUNCH 2023\", \"type\": \"EVENT\"}, {\"id\": \"OSCAL\", \"type\": \"ORGANIZATION\"}, {\"id\": \"TCL\", \"type\": \"ORGANIZATION\"}, {\"id\": \"FAIRYWILL\", \"type\": \"ORGANIZATION\"}, {\"id\": \"AUKEY\", \"type\": \"ORGANIZATION\"}, {\"id\": \"GEN Z AND MILLENNIAL CONSUMERS\", \"type\": \"PERSON\"}, {\"id\": \"EUROPE\", \"type\": \"GEO\"}, {\"id\": \"MIDDLE EAST\", \"type\": \"GEO\"}, {\"id\": \"LATIN AMERICA\", \"type\": \"GEO\"}, {\"id\": \"AUSTRALIA\", \"type\": \"GEO\"}, {\"id\": \"CAPE ROBBIN\", \"type\": \"ORGANIZATION\"}, {\"id\": \"SKECHERS\", \"type\": \"ORGANIZATION\"}, {\"id\": \"LENOVO\", \"type\": \"ORGANIZATION\"}, {\"id\": \"PAUL SMITH\", \"type\": \"ORGANIZATION\"}, {\"id\": \"STUART WEITZMAN\", \"type\": \"ORGANIZATION\"}, {\"id\": \"GEN Z CUSTOMERS\", \"type\": \"PERSON\"}, {\"id\": \"COVID-19 PANDEMIC\", \"type\": \"EVENT\"}, {\"id\": \"TEMU\", \"type\": \"ORGANIZATION\"}, {\"id\": \"PDD HOLDINGS\", \"type\": \"ORGANIZATION\"}, {\"id\": \"EXCHANGE OF LAWSUITS IN 2023\", \"type\": \"EVENT\"}, {\"id\": \"FASHION NOVA\", \"type\": \"ORGANIZATION\"}, {\"id\": \"RICHARD SAGHIAN\", \"type\": \"PERSON\"}, {\"id\": \"CARDI B\", \"type\": \"PERSON\"}, {\"id\": \"SWEDEN\", \"type\": \"GEO\"}, {\"id\": \"INDITEX\", \"type\": \"ORGANIZATION\"}, {\"id\": \"COPYRIGHT INFRINGEMENT LAWSUIT\", \"type\": \"EVENT\"}, {\"id\": \"AMAZON BASICS\", \"type\": \"ORGANIZATION\"}, {\"id\": \"BYTEDANCE\", \"type\": \"ORGANIZATION\"}, {\"id\": \"TIKTOK SHOP\", \"type\": \"ORGANIZATION\"}, {\"id\": \"CHINESE GOVERNMENT\", \"type\": \"ORGANIZATION\"}, {\"id\": \"#SHEINHAUL\", \"type\": \"EVENT\"}, {\"id\": \"SEQUOIA CAPITAL CHINA\", \"type\": \"ORGANIZATION\"}, {\"id\": \"GENERAL ATLANTIC\", \"type\": \"ORGANIZATION\"}, {\"id\": \"TIGER GLOBAL\", \"type\": \"ORGANIZATION\"}, {\"id\": \"FOREVER 21\", \"type\": \"ORGANIZATION\"}, {\"id\": \"WARNER BROTHERS\", \"type\": \"ORGANIZATION\"}, {\"id\": \"WILLY WONKA\", \"type\": \"BRAND\"}, {\"id\": \"CANADA\", \"type\": \"GEO\"}, {\"id\": \"POLAND\", \"type\": \"GEO\"}, {\"id\": \"BRAZIL\", \"type\": \"GEO\"}, {\"id\": \"MEXICO\", \"type\": \"GEO\"}, {\"id\": \"OMNICHANNEL SHOPPING\", \"type\": \"EVENT\"}, {\"id\": \"SINGAPORE\", \"type\": \"GEO\"}, {\"id\": \"INDIA\", \"type\": \"GEO\"}, {\"id\": \"CHINESE COMMUNIST PARTY\", \"type\": \"ORGANIZATION\"}, {\"id\": \"SEC\", \"type\": \"ORGANIZATION\"}, {\"id\": \"CAPITOL HILL\", \"type\": \"GEO\"}, {\"id\": \"EVOLUSHEIN\", \"type\": \"EVENT\"}, {\"id\": \"SHEIN X\", \"type\": \"EVENT\"}, {\"id\": \"2023 FACTORY TOUR\", \"type\": \"EVENT\"}, {\"id\": \"FAST FASHION MARKET\", \"type\": \"EVENT\"}, {\"id\": \"ECOMMERCE GROWTH\", \"type\": \"EVENT\"}, {\"id\": \"WANG XIA\", \"type\": \"PERSON\"}, {\"id\": \"NANJING, CHINA\", \"type\": \"GEO\"}, {\"id\": \"THIRD-PARTY MARKETPLACE\", \"type\": \"EVENT\"}, {\"id\": \"HOME GOODS MARKETPLACE\", \"type\": \"EVENT\"}, {\"id\": \"2022\", \"type\": \"EVENT\"}, {\"id\": \"2024\", \"type\": \"EVENT\"}, {\"id\": \"2026\", \"type\": \"EVENT\"}, {\"id\": \"B2C MARKETPLACES\", \"type\": \"\"}, {\"id\": \"RETAIL ECOMMERCE SALES\", \"type\": \"\"}, {\"id\": \"PDD\", \"type\": \"ORGANIZATION\"}, {\"id\": \"BERSHKA\", \"type\": \"ORGANIZATION\"}, {\"id\": \"MASSIMO DUTTI\", \"type\": \"ORGANIZATION\"}, {\"id\": \"STRADIVARIUS\", \"type\": \"ORGANIZATION\"}, {\"id\": \"2023 INVESTOR PRESENTATION\", \"type\": \"EVENT\"}, {\"id\": \"MAY 2023 FUNDING ROUND\", \"type\": \"EVENT\"}, {\"id\": \"POP-UP STORES\", \"type\": \"EVENT\"}, {\"id\": \"SEPTEMBER 2022 REPORT\", \"type\": \"EVENT\"}], \"links\": [{\"source\": \"SHEIN\", \"target\": \"FAST FASHION\"}, {\"source\": \"SHEIN\", \"target\": \"CHARLIE GRAHAM\"}, {\"source\": \"SHEIN\", \"target\": \"AMAZON\"}, {\"source\": \"SHEIN\", \"target\": \"TIKTOK\"}, {\"source\": \"SHEIN\", \"target\": \"INSTAGRAM\"}, {\"source\": \"SHEIN\", \"target\": \"CHRIS XU\"}, {\"source\": \"SHEIN\", \"target\": \"WANG XIAOHU\"}, {\"source\": \"SHEIN\", \"target\": \"LI PENG\"}, {\"source\": \"SHEIN\", \"target\": \"NANJING DIANWEI INFORMATION TECHNOLOGY (NDIT)\"}, {\"source\": \"SHEIN\", \"target\": \"NANJING\"}, {\"source\": \"SHEIN\", \"target\": \"XU\"}, {\"source\": \"SHEIN\", \"target\": \"CHINA\"}, {\"source\": \"SHEIN\", \"target\": \"SHEINSIDE.COM\"}, {\"source\": \"SHEIN\", \"target\": \"ROMWE\"}, {\"source\": \"SHEIN\", \"target\": \"SPAIN\"}, {\"source\": \"SHEIN\", \"target\": \"GERMANY\"}, {\"source\": \"SHEIN\", \"target\": \"US MARKET\"}, {\"source\": \"SHEIN\", \"target\": \"2014\"}, {\"source\": \"SHEIN\", \"target\": \"2015\"}, {\"source\": \"SHEIN\", \"target\": \"2016\"}, {\"source\": \"SHEIN\", \"target\": \"2017\"}, {\"source\": \"SHEIN\", \"target\": \"US MARKET PUSH 2017\"}, {\"source\": \"SHEIN\", \"target\": \"LATR SYSTEM\"}, {\"source\": \"SHEIN\", \"target\": \"UNIUNI\"}, {\"source\": \"SHEIN\", \"target\": \"H&M\"}, {\"source\": \"SHEIN\", \"target\": \"NEW BALANCE\"}, {\"source\": \"SHEIN\", \"target\": \"LAUNCH OF SHEIN\\'S INTEGRATED MARKETPLACE\"}, {\"source\": \"SHEIN\", \"target\": \"JUNE 2023\"}, {\"source\": \"SHEIN\", \"target\": \"NOVEMBER 2023\"}, {\"source\": \"SHEIN\", \"target\": \"MOTF\"}, {\"source\": \"SHEIN\", \"target\": \"KATY PERRY\"}, {\"source\": \"SHEIN\", \"target\": \"HOME GOODS MARKETPLACE LAUNCH 2023\"}, {\"source\": \"SHEIN\", \"target\": \"OSCAL\"}, {\"source\": \"SHEIN\", \"target\": \"TCL\"}, {\"source\": \"SHEIN\", \"target\": \"FAIRYWILL\"}, {\"source\": \"SHEIN\", \"target\": \"AUKEY\"}, {\"source\": \"SHEIN\", \"target\": \"GEN Z AND MILLENNIAL CONSUMERS\"}, {\"source\": \"SHEIN\", \"target\": \"US\"}, {\"source\": \"SHEIN\", \"target\": \"EUROPE\"}, {\"source\": \"SHEIN\", \"target\": \"MIDDLE EAST\"}, {\"source\": \"SHEIN\", \"target\": \"LATIN AMERICA\"}, {\"source\": \"SHEIN\", \"target\": \"AUSTRALIA\"}, {\"source\": \"SHEIN\", \"target\": \"CAPE ROBBIN\"}, {\"source\": \"SHEIN\", \"target\": \"SKECHERS\"}, {\"source\": \"SHEIN\", \"target\": \"LENOVO\"}, {\"source\": \"SHEIN\", \"target\": \"PAUL SMITH\"}, {\"source\": \"SHEIN\", \"target\": \"STUART WEITZMAN\"}, {\"source\": \"SHEIN\", \"target\": \"GEN Z CUSTOMERS\"}, {\"source\": \"SHEIN\", \"target\": \"TEMU\"}, {\"source\": \"SHEIN\", \"target\": \"EXCHANGE OF LAWSUITS IN 2023\"}, {\"source\": \"SHEIN\", \"target\": \"INDITEX\"}, {\"source\": \"SHEIN\", \"target\": \"CHINESE GOVERNMENT\"}, {\"source\": \"SHEIN\", \"target\": \"COVID-19 PANDEMIC\"}, {\"source\": \"SHEIN\", \"target\": \"ZARA\"}, {\"source\": \"SHEIN\", \"target\": \"#SHEINHAUL\"}, {\"source\": \"SHEIN\", \"target\": \"SEQUOIA CAPITAL CHINA\"}, {\"source\": \"SHEIN\", \"target\": \"GENERAL ATLANTIC\"}, {\"source\": \"SHEIN\", \"target\": \"TIGER GLOBAL\"}, {\"source\": \"SHEIN\", \"target\": \"FOREVER 21\"}, {\"source\": \"SHEIN\", \"target\": \"WARNER BROTHERS\"}, {\"source\": \"SHEIN\", \"target\": \"CANADA\"}, {\"source\": \"SHEIN\", \"target\": \"POLAND\"}, {\"source\": \"SHEIN\", \"target\": \"BRAZIL\"}, {\"source\": \"SHEIN\", \"target\": \"MEXICO\"}, {\"source\": \"SHEIN\", \"target\": \"OMNICHANNEL SHOPPING\"}, {\"source\": \"SHEIN\", \"target\": \"SINGAPORE\"}, {\"source\": \"SHEIN\", \"target\": \"INDIA\"}, {\"source\": \"SHEIN\", \"target\": \"CHINESE COMMUNIST PARTY\"}, {\"source\": \"SHEIN\", \"target\": \"SEC\"}, {\"source\": \"SHEIN\", \"target\": \"CAPITOL HILL\"}, {\"source\": \"SHEIN\", \"target\": \"EVOLUSHEIN\"}, {\"source\": \"SHEIN\", \"target\": \"SHEIN X\"}, {\"source\": \"SHEIN\", \"target\": \"2023 FACTORY TOUR\"}, {\"source\": \"SHEIN\", \"target\": \"WANG XIA\"}, {\"source\": \"SHEIN\", \"target\": \"NANJING, CHINA\"}, {\"source\": \"SHEIN\", \"target\": \"GUANGZHOU\"}, {\"source\": \"SHEIN\", \"target\": \"THIRD-PARTY MARKETPLACE\"}, {\"source\": \"SHEIN\", \"target\": \"HOME GOODS MARKETPLACE\"}, {\"source\": \"SHEIN\", \"target\": \"2022\"}, {\"source\": \"SHEIN\", \"target\": \"2023 INVESTOR PRESENTATION\"}, {\"source\": \"SHEIN\", \"target\": \"MAY 2023 FUNDING ROUND\"}, {\"source\": \"SHEIN\", \"target\": \"POP-UP STORES\"}, {\"source\": \"SHEIN\", \"target\": \"SEPTEMBER 2022 REPORT\"}, {\"source\": \"ZARA\", \"target\": \"FAST FASHION\"}, {\"source\": \"ZARA\", \"target\": \"INDITEX\"}, {\"source\": \"ZARA\", \"target\": \"FAST FASHION MARKET\"}, {\"source\": \"US\", \"target\": \"FAST FASHION\"}, {\"source\": \"US\", \"target\": \"2023\"}, {\"source\": \"US\", \"target\": \"2019\"}, {\"source\": \"US\", \"target\": \"2020\"}, {\"source\": \"US\", \"target\": \"TEMU\"}, {\"source\": \"US\", \"target\": \"H&M\"}, {\"source\": \"US\", \"target\": \"TIKTOK SHOP\"}, {\"source\": \"US\", \"target\": \"TIKTOK\"}, {\"source\": \"US\", \"target\": \"ECOMMERCE GROWTH\"}, {\"source\": \"AMAZON\", \"target\": \"ECOMMERCE\"}, {\"source\": \"AMAZON\", \"target\": \"AMAZON BASICS\"}, {\"source\": \"AMAZON\", \"target\": \"ECOMMERCE GROWTH\"}, {\"source\": \"ECOMMERCE\", \"target\": \"COVID-19 PANDEMIC\"}, {\"source\": \"TIKTOK\", \"target\": \"BYTEDANCE\"}, {\"source\": \"TIKTOK\", \"target\": \"TIKTOK SHOP\"}, {\"source\": \"TIKTOK\", \"target\": \"CHINA\"}, {\"source\": \"TIKTOK\", \"target\": \"ECOMMERCE GROWTH\"}, {\"source\": \"INSTAGRAM\", \"target\": \"ECOMMERCE GROWTH\"}, {\"source\": \"2023\", \"target\": \"2019\"}, {\"source\": \"2023\", \"target\": \"2020\"}, {\"source\": \"CHRIS XU\", \"target\": \"WANG XIAOHU\"}, {\"source\": \"CHRIS XU\", \"target\": \"LI PENG\"}, {\"source\": \"CHRIS XU\", \"target\": \"GEORGE WASHINGTON UNIVERSITY\"}, {\"source\": \"CHRIS XU\", \"target\": \"NANJING DIANWEI INFORMATION TECHNOLOGY (NDIT)\"}, {\"source\": \"WANG XIAOHU\", \"target\": \"LI PENG\"}, {\"source\": \"LI PENG\", \"target\": \"XU\"}, {\"source\": \"LI PENG\", \"target\": \"NDIT\"}, {\"source\": \"NANJING DIANWEI INFORMATION TECHNOLOGY (NDIT)\", \"target\": \"WANG XIA\"}, {\"source\": \"GEORGE WASHINGTON UNIVERSITY\", \"target\": \"XU\"}, {\"source\": \"NANJING\", \"target\": \"XU\"}, {\"source\": \"NANJING\", \"target\": \"CHINA\"}, {\"source\": \"XU\", \"target\": \"XIAOHU\"}, {\"source\": \"XU\", \"target\": \"CHINA\"}, {\"source\": \"XU\", \"target\": \"NDIT\"}, {\"source\": \"XU\", \"target\": \"GUANGZHOU\"}, {\"source\": \"XU\", \"target\": \"SHEINSIDE.COM\"}, {\"source\": \"XU\", \"target\": \"PENG\"}, {\"source\": \"XU\", \"target\": \"2012\"}, {\"source\": \"XIAOHU\", \"target\": \"NDIT\"}, {\"source\": \"XIAOHU\", \"target\": \"PENG\"}, {\"source\": \"CHINA\", \"target\": \"BYTEDANCE\"}, {\"source\": \"CHINA\", \"target\": \"GUANGZHOU\"}, {\"source\": \"NDIT\", \"target\": \"PENG\"}, {\"source\": \"GUANGZHOU\", \"target\": \"SHEINSIDE.COM\"}, {\"source\": \"H&M\", \"target\": \"SWEDEN\"}, {\"source\": \"H&M\", \"target\": \"COPYRIGHT INFRINGEMENT LAWSUIT\"}, {\"source\": \"H&M\", \"target\": \"EUROPE\"}, {\"source\": \"TEMU\", \"target\": \"PDD HOLDINGS\"}, {\"source\": \"TEMU\", \"target\": \"EXCHANGE OF LAWSUITS IN 2023\"}, {\"source\": \"TEMU\", \"target\": \"PDD\"}, {\"source\": \"FASHION NOVA\", \"target\": \"RICHARD SAGHIAN\"}, {\"source\": \"FASHION NOVA\", \"target\": \"CARDI B\"}, {\"source\": \"INDITEX\", \"target\": \"BERSHKA\"}, {\"source\": \"INDITEX\", \"target\": \"MASSIMO DUTTI\"}, {\"source\": \"INDITEX\", \"target\": \"STRADIVARIUS\"}, {\"source\": \"WARNER BROTHERS\", \"target\": \"WILLY WONKA\"}, {\"source\": \"CHINESE COMMUNIST PARTY\", \"target\": \"SEC\"}, {\"source\": \"2024\", \"target\": \"B2C MARKETPLACES\"}, {\"source\": \"2026\", \"target\": \"RETAIL ECOMMERCE SALES\"}]}'"
      ]
     },
     "execution_count": 3,
     "metadata": {},
     "output_type": "execute_result"
    }
   ],
   "source": [
    "graph_data_json"
   ]
  },
  {
   "cell_type": "code",
   "execution_count": 6,
   "metadata": {},
   "outputs": [],
   "source": [
    "# Save the HTML content to a file\n",
    "with open('text_node.html', 'w') as f:\n",
    "    f.write(html_content)\n"
   ]
  },
  {
   "cell_type": "markdown",
   "metadata": {},
   "source": []
  },
  {
   "cell_type": "markdown",
   "metadata": {},
   "source": []
  },
  {
   "cell_type": "markdown",
   "metadata": {},
   "source": []
  },
  {
   "cell_type": "markdown",
   "metadata": {},
   "source": []
  },
  {
   "cell_type": "markdown",
   "metadata": {},
   "source": []
  },
  {
   "cell_type": "markdown",
   "metadata": {},
   "source": []
  }
 ],
 "metadata": {
  "kernelspec": {
   "display_name": "unsloth_env",
   "language": "python",
   "name": "python3"
  },
  "language_info": {
   "codemirror_mode": {
    "name": "ipython",
    "version": 3
   },
   "file_extension": ".py",
   "mimetype": "text/x-python",
   "name": "python",
   "nbconvert_exporter": "python",
   "pygments_lexer": "ipython3",
   "version": "3.10.14"
  }
 },
 "nbformat": 4,
 "nbformat_minor": 2
}
